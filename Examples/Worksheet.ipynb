{
 "cells": [
  {
   "cell_type": "code",
   "execution_count": 1,
   "metadata": {},
   "outputs": [],
   "source": [
    "import inspect\n",
    "import hashlib\n",
    "import requests\n",
    "\n",
    "\n",
    "def tape(package_name=None):\n",
    "    def mid(func):\n",
    "        def inner(x):\n",
    "            metadata = _extract(func, package_name)\n",
    "            _push(metadata)\n",
    "            return func(x)\n",
    "        return inner\n",
    "    return mid\n",
    "\n",
    "\n",
    "def _extract(func, package_name):\n",
    "    \"\"\"extract metadata from code object.\n",
    "    \"\"\"\n",
    "    func_name = func.__name__\n",
    "    source = inspect.getsource(func)\n",
    "    key = hashlib.sha256(source.encode('utf-8')).hexdigest()\n",
    "\n",
    "    data = {\"func_name\": func_name, \"source\": source, \"key\": key, \"package_name\": package_name}\n",
    "    return data\n",
    "\n",
    "\n",
    "def _push(data):\n",
    "    try:\n",
    "        res = requests.put(\"http://18.209.241.43:5000/api\", json=data)\n",
    "    except:\n",
    "        pass\n"
   ]
  },
  {
   "cell_type": "code",
   "execution_count": 2,
   "metadata": {},
   "outputs": [],
   "source": [
    "@tape(\"mynameisvinn\")\n",
    "def add_one(x):\n",
    "    return x + 1"
   ]
  },
  {
   "cell_type": "code",
   "execution_count": 3,
   "metadata": {},
   "outputs": [
    {
     "data": {
      "text/plain": [
       "2"
      ]
     },
     "execution_count": 3,
     "metadata": {},
     "output_type": "execute_result"
    }
   ],
   "source": [
    "add_one(1)"
   ]
  },
  {
   "cell_type": "code",
   "execution_count": 28,
   "metadata": {},
   "outputs": [],
   "source": [
    "@tape(\"mynameisvinn\")\n",
    "def add_two(x):\n",
    "    return x + 2"
   ]
  },
  {
   "cell_type": "code",
   "execution_count": 29,
   "metadata": {},
   "outputs": [
    {
     "data": {
      "text/plain": [
       "4"
      ]
     },
     "execution_count": 29,
     "metadata": {},
     "output_type": "execute_result"
    }
   ],
   "source": [
    "add_two(2)"
   ]
  },
  {
   "cell_type": "code",
   "execution_count": 30,
   "metadata": {},
   "outputs": [
    {
     "data": {
      "text/plain": [
       "4"
      ]
     },
     "execution_count": 30,
     "metadata": {},
     "output_type": "execute_result"
    }
   ],
   "source": [
    "add_one(3)"
   ]
  },
  {
   "cell_type": "code",
   "execution_count": null,
   "metadata": {},
   "outputs": [],
   "source": []
  },
  {
   "cell_type": "code",
   "execution_count": null,
   "metadata": {},
   "outputs": [],
   "source": []
  }
 ],
 "metadata": {
  "kernelspec": {
   "display_name": "Python 3",
   "language": "python",
   "name": "python3"
  },
  "language_info": {
   "codemirror_mode": {
    "name": "ipython",
    "version": 3
   },
   "file_extension": ".py",
   "mimetype": "text/x-python",
   "name": "python",
   "nbconvert_exporter": "python",
   "pygments_lexer": "ipython3",
   "version": "3.8.3"
  }
 },
 "nbformat": 4,
 "nbformat_minor": 4
}
